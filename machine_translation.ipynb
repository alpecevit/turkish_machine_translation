{
 "cells": [
  {
   "cell_type": "code",
   "execution_count": 1,
   "metadata": {},
   "outputs": [],
   "source": [
    "import os\n",
    "from tensorflow.keras.models import Model\n",
    "from tensorflow.keras.layers import Input, LSTM, Dense, GRU, Embedding, Bidirectional, RepeatVector, \\\n",
    "    Concatenate, Activation, Dot, Lambda\n",
    "from tensorflow.keras.preprocessing.text import Tokenizer\n",
    "from tensorflow.keras.preprocessing.sequence import pad_sequences\n",
    "import tensorflow.keras.backend as K\n",
    "\n",
    "import numpy as np\n",
    "import matplotlib.pyplot as plt\n",
    "from sklearn.utils import shuffle"
   ]
  },
  {
   "cell_type": "code",
   "execution_count": 2,
   "metadata": {},
   "outputs": [],
   "source": [
    "# do softmax over the time axis\n",
    "# expected shape of the output N x T x D\n",
    "\n",
    "def softmax_over_time(x):\n",
    "    assert K.ndim(x) > 2\n",
    "    e = K.exp(x - K.max(x, axis=1, keepdims=True))\n",
    "    s = K.sum(e, axis=1, keepdims=True)\n",
    "    return e / s"
   ]
  },
  {
   "cell_type": "code",
   "execution_count": 3,
   "metadata": {},
   "outputs": [],
   "source": [
    "# configurations\n",
    "BATCH_SIZE = 64\n",
    "EPOCHS = 100\n",
    "LATENT_DIM = 256\n",
    "LATENT_DIM_DECODER = 256\n",
    "NUM_SAMPLES = 10000\n",
    "MAX_SEQUENCE_LENGTH = 100\n",
    "MAX_NUM_WORDS = 20000\n",
    "EMBEDDING_DIM = 300"
   ]
  },
  {
   "cell_type": "code",
   "execution_count": 4,
   "metadata": {},
   "outputs": [],
   "source": [
    "# where we will store the data\n",
    "input_texts = [] # sentence in original language\n",
    "target_texts = [] # sentence in target language\n",
    "target_texts_inputs = [] # sentence in target language offset by 1, target sentence but addition of <sos> token"
   ]
  },
  {
   "cell_type": "code",
   "execution_count": 5,
   "metadata": {},
   "outputs": [
    {
     "name": "stdout",
     "output_type": "stream",
     "text": [
      "Number of samples: 10000\n"
     ]
    }
   ],
   "source": [
    "# load in the data\n",
    "t = 0\n",
    "for line in open('data/translation_data.txt'):\n",
    "    # only keep limited number of samples\n",
    "    # the samples in our data are somewhat ordered by length\n",
    "    # we want to keep mostly the short sequences because when doing padding you do not want a lot of zeros\n",
    "    t += 1\n",
    "    if t > NUM_SAMPLES:\n",
    "        break\n",
    "\n",
    "    # input and target are seperated by tab\n",
    "    if '\\t' not in line:\n",
    "        continue\n",
    "\n",
    "    # split up the input and translation\n",
    "    input_text, translation = line.split('\\t')[:2]\n",
    "\n",
    "    # we are using teacher forcing\n",
    "    target_text = translation + ' <eos>'\n",
    "    target_text_input = '<sos> ' + translation\n",
    "\n",
    "    input_texts.append(input_text)\n",
    "    target_texts.append(target_text)\n",
    "    target_texts_inputs.append(target_text_input)\n",
    "\n",
    "print(\"Number of samples:\", len(input_texts))"
   ]
  },
  {
   "cell_type": "code",
   "execution_count": 6,
   "metadata": {},
   "outputs": [],
   "source": [
    "input_texts, target_texts, target_texts_inputs = shuffle(input_texts, target_texts, target_texts_inputs)"
   ]
  },
  {
   "cell_type": "code",
   "execution_count": 7,
   "metadata": {},
   "outputs": [],
   "source": [
    "# tokenize the inputs\n",
    "tokenizer_inputs = Tokenizer(num_words=MAX_NUM_WORDS)\n",
    "tokenizer_inputs.fit_on_texts(input_texts)\n",
    "input_sequences = tokenizer_inputs.texts_to_sequences(input_texts)"
   ]
  },
  {
   "cell_type": "code",
   "execution_count": 8,
   "metadata": {},
   "outputs": [
    {
     "name": "stdout",
     "output_type": "stream",
     "text": [
      "Found 3047 unique tokens in input corpus\n"
     ]
    }
   ],
   "source": [
    "# word index mapping for input language\n",
    "word2idx_inputs = tokenizer_inputs.word_index\n",
    "print(f\"Found {len(word2idx_inputs)} unique tokens in input corpus\")"
   ]
  },
  {
   "cell_type": "code",
   "execution_count": 9,
   "metadata": {},
   "outputs": [
    {
     "data": {
      "text/plain": [
       "6"
      ]
     },
     "execution_count": 9,
     "metadata": {},
     "output_type": "execute_result"
    }
   ],
   "source": [
    "# determine max sequence length for input\n",
    "max_len_input = max(len(s) for s in input_sequences)\n",
    "max_len_input"
   ]
  },
  {
   "cell_type": "code",
   "execution_count": 10,
   "metadata": {},
   "outputs": [],
   "source": [
    "# tokenizing the outputs\n",
    "tokenizer_outputs = Tokenizer(num_words=MAX_NUM_WORDS, filters='')\n",
    "tokenizer_outputs.fit_on_texts(target_texts + target_texts_inputs)\n",
    "target_sequences = tokenizer_outputs.texts_to_sequences(target_texts)\n",
    "target_sequences_inputs = tokenizer_outputs.texts_to_sequences(target_texts_inputs)"
   ]
  },
  {
   "cell_type": "code",
   "execution_count": 11,
   "metadata": {},
   "outputs": [
    {
     "name": "stdout",
     "output_type": "stream",
     "text": [
      "Found 8089 unique tokens in output corpus\n"
     ]
    }
   ],
   "source": [
    "# word index mapping for target language\n",
    "word2idx_outputs = tokenizer_outputs.word_index\n",
    "print(f\"Found {len(word2idx_outputs)} unique tokens in output corpus\")"
   ]
  },
  {
   "cell_type": "code",
   "execution_count": 12,
   "metadata": {},
   "outputs": [],
   "source": [
    "# storing the number of outputs for later\n",
    "# remember indexing starts at 1 so add 1\n",
    "num_words_output = len(word2idx_outputs) + 1"
   ]
  },
  {
   "cell_type": "code",
   "execution_count": 13,
   "metadata": {},
   "outputs": [
    {
     "data": {
      "text/plain": [
       "9"
      ]
     },
     "execution_count": 13,
     "metadata": {},
     "output_type": "execute_result"
    }
   ],
   "source": [
    "# determine max sequence length for output\n",
    "max_len_output = max(len(s) for s in target_sequences)\n",
    "max_len_output"
   ]
  },
  {
   "cell_type": "code",
   "execution_count": 14,
   "metadata": {},
   "outputs": [
    {
     "name": "stdout",
     "output_type": "stream",
     "text": [
      "Encoder data shape: (10000, 6)\n",
      "Encoder data[0]: [  0   0   1 543 185  17]\n",
      "Decoder data shape: (10000, 9)\n",
      "Decoder data[0]: [   2    7  786 2828    0    0    0    0    0]\n"
     ]
    }
   ],
   "source": [
    "# padding the sequences\n",
    "encoder_inputs = pad_sequences(input_sequences, maxlen=max_len_input)\n",
    "print(\"Encoder data shape:\", encoder_inputs.shape)\n",
    "print(\"Encoder data[0]:\", encoder_inputs[0])\n",
    "\n",
    "decoder_inputs = pad_sequences(target_sequences_inputs, maxlen=max_len_output, padding='post')\n",
    "print(\"Decoder data shape:\", decoder_inputs.shape)\n",
    "print(\"Decoder data[0]:\", decoder_inputs[0])\n",
    "\n",
    "decoder_targets = pad_sequences(target_sequences, maxlen=max_len_output, padding='post')"
   ]
  },
  {
   "cell_type": "code",
   "execution_count": 15,
   "metadata": {},
   "outputs": [
    {
     "name": "stdout",
     "output_type": "stream",
     "text": [
      "Loading word vectors...\n",
      "Found 400001 word vectors\n"
     ]
    }
   ],
   "source": [
    "# load in pretrained word vectors\n",
    "print(\"Loading word vectors...\")\n",
    "word2vec = {}\n",
    "with open(os.path.join('data/glove.6B.%sd.txt' % EMBEDDING_DIM)) as f:\n",
    "    # format of the file is space seperated values\n",
    "    for line in f:\n",
    "        values = line.split()\n",
    "        word = values[0]\n",
    "        vec = np.asarray(values[1:], dtype='float32')\n",
    "        word2vec[word] = vec\n",
    "\n",
    "print(f\"Found {len(word2vec)} word vectors\")"
   ]
  },
  {
   "cell_type": "code",
   "execution_count": 16,
   "metadata": {},
   "outputs": [
    {
     "name": "stdout",
     "output_type": "stream",
     "text": [
      "Filling pre-trained embeddings...\n"
     ]
    }
   ],
   "source": [
    "# prepare embedding matrix\n",
    "print(\"Filling pre-trained embeddings...\")\n",
    "num_words = min(MAX_NUM_WORDS, len(word2idx_inputs) + 1) # remember embeddings start at 1\n",
    "embedding_matrix = np.zeros((num_words, EMBEDDING_DIM))\n",
    "for word, i in word2idx_inputs.items():\n",
    "    if i < MAX_NUM_WORDS:\n",
    "        embedding_vector = word2vec.get(word)\n",
    "        if embedding_vector is not None:\n",
    "            # words not found in embedding matrix will be all zeros\n",
    "            embedding_matrix[i] = embedding_vector"
   ]
  },
  {
   "cell_type": "code",
   "execution_count": 17,
   "metadata": {},
   "outputs": [
    {
     "name": "stdout",
     "output_type": "stream",
     "text": [
      "Loading word vectors...\n",
      "Found 253832 word vectors\n"
     ]
    }
   ],
   "source": [
    "# load in pretrained word vectors\n",
    "print(\"Loading word vectors...\")\n",
    "word2vec_target = {}\n",
    "with open('data/tr_embeddings.txt') as f:\n",
    "    # format of the file is space seperated values\n",
    "    for line in f:\n",
    "        values = line.split()\n",
    "        word = values[0]\n",
    "        vec = np.asarray(values[1:], dtype='float32')\n",
    "        word2vec_target[word] = vec\n",
    "\n",
    "print(f\"Found {len(word2vec_target)} word vectors\")"
   ]
  },
  {
   "cell_type": "code",
   "execution_count": 18,
   "metadata": {},
   "outputs": [
    {
     "name": "stdout",
     "output_type": "stream",
     "text": [
      "Filling pre-trained embeddings...\n"
     ]
    }
   ],
   "source": [
    "# prepare embedding matrix\n",
    "print(\"Filling pre-trained embeddings...\")\n",
    "num_words_target = min(MAX_NUM_WORDS, len(word2idx_outputs) + 1) # remember embeddings start at 1\n",
    "embedding_matrix_target = np.zeros((num_words_target, EMBEDDING_DIM))\n",
    "for word, i in word2idx_outputs.items():\n",
    "    if i < MAX_NUM_WORDS:\n",
    "        embedding_vector = word2vec_target.get(word)\n",
    "        if embedding_vector is not None:\n",
    "            # words not found in embedding matrix will be all zeros\n",
    "            embedding_matrix_target[i] = embedding_vector"
   ]
  },
  {
   "cell_type": "code",
   "execution_count": 19,
   "metadata": {},
   "outputs": [],
   "source": [
    "# loading pre-trained embeddings to the embedding layer\n",
    "# setting trainable to false in order to keep embeddings constant\n",
    "embedding_layer = Embedding(\n",
    "    num_words,\n",
    "    EMBEDDING_DIM,\n",
    "    weights=[embedding_matrix],\n",
    "    input_length=max_len_input,\n",
    ")"
   ]
  },
  {
   "cell_type": "code",
   "execution_count": 20,
   "metadata": {},
   "outputs": [],
   "source": [
    "# loading pre-trained embeddings to the embedding layer\n",
    "# setting trainable to false in order to keep embeddings constant\n",
    "embedding_layer_target = Embedding(\n",
    "    num_words_target,\n",
    "    EMBEDDING_DIM,\n",
    "    weights=[embedding_matrix_target],\n",
    "    input_length=max_len_output,\n",
    ")"
   ]
  },
  {
   "cell_type": "code",
   "execution_count": 21,
   "metadata": {},
   "outputs": [],
   "source": [
    "# one-hot targets by which sequence, which word\n",
    "decoder_one_hot_targets = np.zeros((len(input_texts), max_len_output, num_words_output))\n",
    "for i, target_sequence in enumerate(decoder_targets):\n",
    "    for t, word in enumerate(target_sequence):\n",
    "        decoder_one_hot_targets[i, t, word] = 1"
   ]
  },
  {
   "cell_type": "code",
   "execution_count": 22,
   "metadata": {},
   "outputs": [
    {
     "name": "stderr",
     "output_type": "stream",
     "text": [
      "2022-12-12 22:39:17.601073: I tensorflow/core/platform/cpu_feature_guard.cc:193] This TensorFlow binary is optimized with oneAPI Deep Neural Network Library (oneDNN) to use the following CPU instructions in performance-critical operations:  AVX2 FMA\n",
      "To enable them in other operations, rebuild TensorFlow with the appropriate compiler flags.\n"
     ]
    }
   ],
   "source": [
    "# building the model\n",
    "# setting up the encoder\n",
    "encoder_inputs_placeholder = Input(shape=(max_len_input,))\n",
    "x = embedding_layer(encoder_inputs_placeholder)\n",
    "encoder = Bidirectional(LSTM(LATENT_DIM, return_sequences=True, dropout=0.5))\n",
    "encoder_outputs = encoder(x)\n",
    "\n",
    "# setting up the decoder\n",
    "decoder_inputs_placeholder = Input(shape=(max_len_output,))\n",
    "decoder_inputs_x = embedding_layer_target(decoder_inputs_placeholder)\n",
    "\n",
    "##### Attention #####\n",
    "# attention layers are global so that we will be able to reuse them in the same function\n",
    "attn_repeat_layer = RepeatVector(max_len_input)\n",
    "atnn_concat_layer = Concatenate(axis=-1)\n",
    "atnn_dense1 = Dense(10, activation='tanh')\n",
    "atnn_dense2 = Dense(1, activation=softmax_over_time)\n",
    "atnn_dot = Dot(axes=1)\n",
    "\n",
    "def one_step_attention(h, st_1):\n",
    "    # h = h(1), ...., h(Tx), shape = (Tx, LATENT_DIM * 2)\n",
    "    # st_1 = s(t-1), shape = (LATENT_DIM_DECODER,)\n",
    "\n",
    "    # copy s(t-1) Tx times\n",
    "    # Now of shape (Tx, LATENT_DIM_DECODER)\n",
    "    st_1 = attn_repeat_layer(st_1)\n",
    "\n",
    "    # concatenate all h(t)s with s(t-1)\n",
    "    # Now of shape (Tx, LATENT_DIM_DECODER + LATENT_DIM * 2)\n",
    "    x = atnn_concat_layer([h, st_1])\n",
    "\n",
    "    # neural net first layer\n",
    "    x = atnn_dense1(x)\n",
    "\n",
    "    # second neural net layer with custom softmax\n",
    "    alphas = atnn_dense2(x)\n",
    "\n",
    "    # Dot the alphas and the hs\n",
    "    # a.dot(b) =  sum over a[t] * b[t]\n",
    "    context = atnn_dot([alphas, h])\n",
    "\n",
    "    return context\n",
    "\n",
    "# defining the rest of the decoder (after attention)\n",
    "decoder_lstm = LSTM(LATENT_DIM_DECODER, return_state=True)\n",
    "decoder_dense = Dense(num_words_target, activation='softmax')\n",
    "\n",
    "initial_s = Input(shape=(LATENT_DIM_DECODER,), name='s0')\n",
    "initial_c = Input(shape=(LATENT_DIM_DECODER,), name='c0')\n",
    "context_last_word_concat_layer = Concatenate(axis=2) # concat layer for teacher forcing which will combine the previous correct word with the context\n",
    "\n",
    "# Unlike the previous seq2seq we cannot get the output all in one step\n",
    "# Instead we need to do Ty steps\n",
    "# And each step we need to consider all Tx hs\n",
    "\n",
    "# s, c will be re-assigned in each iteration of the loop\n",
    "s = initial_s\n",
    "c = initial_c\n",
    "\n",
    "# collect outputs in a list at first\n",
    "outputs = []\n",
    "for t in range(max_len_output): # Ty times\n",
    "    # get the context using attention\n",
    "    context = one_step_attention(encoder_outputs, s)\n",
    "\n",
    "    # we need a different layer for each time step\n",
    "    selector = Lambda(lambda x: x[:, t:t+1])\n",
    "    xt = selector(decoder_inputs_x)\n",
    "\n",
    "    # combine\n",
    "    decoder_lstm_input = context_last_word_concat_layer([context, xt])\n",
    "\n",
    "    # pass the combined [context, last word] into the LSTM\n",
    "    # along with [s, c]\n",
    "    # get the new [s, c] and output\n",
    "    o, s, c = decoder_lstm(decoder_lstm_input, initial_state=[s,c])\n",
    "\n",
    "    # final dense layer to get next word prediction\n",
    "    decoder_outputs = decoder_dense(o)\n",
    "    outputs.append(decoder_outputs)"
   ]
  },
  {
   "cell_type": "code",
   "execution_count": 23,
   "metadata": {},
   "outputs": [],
   "source": [
    "# outputs is now a list of length Ty\n",
    "# each element is of shape (batch_size, output_vocab_size)\n",
    "# therefore if we simply stack all the outputs into 1 tensor\n",
    "# it would be of shape T x N x D\n",
    "# we would like it to be a shape of N x T x D\n",
    "def stack_and_transpose(x):\n",
    "    # x is a list of length T, each element is a batch_size x output_vocab_size_tensor\n",
    "    x = K.stack(x)\n",
    "    x = K.permute_dimensions(x, pattern=(1,0,2))\n",
    "    return x"
   ]
  },
  {
   "cell_type": "code",
   "execution_count": 24,
   "metadata": {},
   "outputs": [],
   "source": [
    "# make it a layer\n",
    "stacker = Lambda(stack_and_transpose)\n",
    "outputs = stacker(outputs)"
   ]
  },
  {
   "cell_type": "code",
   "execution_count": 25,
   "metadata": {},
   "outputs": [],
   "source": [
    "# creating the model\n",
    "model = Model(\n",
    "    inputs = [\n",
    "        encoder_inputs_placeholder,\n",
    "        decoder_inputs_placeholder,\n",
    "        initial_s,\n",
    "        initial_c\n",
    "    ],\n",
    "    outputs=outputs\n",
    ")"
   ]
  },
  {
   "cell_type": "code",
   "execution_count": 26,
   "metadata": {},
   "outputs": [],
   "source": [
    "model.compile(optimizer='rmsprop', loss='categorical_crossentropy', metrics=['accuracy'])"
   ]
  },
  {
   "cell_type": "code",
   "execution_count": 27,
   "metadata": {},
   "outputs": [
    {
     "name": "stdout",
     "output_type": "stream",
     "text": [
      "Epoch 1/100\n",
      "125/125 [==============================] - 143s 905ms/step - loss: 2.9711 - accuracy: 0.6158 - val_loss: 2.6747 - val_accuracy: 0.6326\n",
      "Epoch 2/100\n",
      "125/125 [==============================] - 82s 653ms/step - loss: 2.4639 - accuracy: 0.6592 - val_loss: 2.5893 - val_accuracy: 0.6415\n",
      "Epoch 3/100\n",
      "125/125 [==============================] - 86s 688ms/step - loss: 2.3426 - accuracy: 0.6702 - val_loss: 2.4659 - val_accuracy: 0.6686\n",
      "Epoch 4/100\n",
      "125/125 [==============================] - 81s 650ms/step - loss: 2.2499 - accuracy: 0.6767 - val_loss: 2.3962 - val_accuracy: 0.6793\n",
      "Epoch 5/100\n",
      "125/125 [==============================] - 90s 719ms/step - loss: 2.1601 - accuracy: 0.6860 - val_loss: 2.3439 - val_accuracy: 0.6890\n",
      "Epoch 6/100\n",
      "125/125 [==============================] - 99s 795ms/step - loss: 2.0763 - accuracy: 0.6940 - val_loss: 2.2874 - val_accuracy: 0.6937\n",
      "Epoch 7/100\n",
      "125/125 [==============================] - 87s 694ms/step - loss: 2.0030 - accuracy: 0.7012 - val_loss: 2.2360 - val_accuracy: 0.6961\n",
      "Epoch 8/100\n",
      "125/125 [==============================] - 83s 663ms/step - loss: 1.9369 - accuracy: 0.7072 - val_loss: 2.2111 - val_accuracy: 0.6982\n",
      "Epoch 9/100\n",
      "125/125 [==============================] - 80s 641ms/step - loss: 1.8863 - accuracy: 0.7113 - val_loss: 2.2147 - val_accuracy: 0.7008\n",
      "Epoch 10/100\n",
      "125/125 [==============================] - 88s 706ms/step - loss: 1.8325 - accuracy: 0.7171 - val_loss: 2.1553 - val_accuracy: 0.7087\n",
      "Epoch 11/100\n",
      "125/125 [==============================] - 89s 712ms/step - loss: 1.7826 - accuracy: 0.7220 - val_loss: 2.1591 - val_accuracy: 0.7071\n",
      "Epoch 12/100\n",
      "125/125 [==============================] - 95s 762ms/step - loss: 1.7331 - accuracy: 0.7256 - val_loss: 2.1225 - val_accuracy: 0.7129\n",
      "Epoch 13/100\n",
      "125/125 [==============================] - 87s 698ms/step - loss: 1.6913 - accuracy: 0.7305 - val_loss: 2.1253 - val_accuracy: 0.7157\n",
      "Epoch 14/100\n",
      "125/125 [==============================] - 86s 686ms/step - loss: 1.6446 - accuracy: 0.7347 - val_loss: 2.1065 - val_accuracy: 0.7160\n",
      "Epoch 15/100\n",
      "125/125 [==============================] - 85s 681ms/step - loss: 1.6033 - accuracy: 0.7399 - val_loss: 2.0994 - val_accuracy: 0.7126\n",
      "Epoch 16/100\n",
      "125/125 [==============================] - 85s 682ms/step - loss: 1.5594 - accuracy: 0.7451 - val_loss: 2.1036 - val_accuracy: 0.7196\n",
      "Epoch 17/100\n",
      "125/125 [==============================] - 86s 690ms/step - loss: 1.5211 - accuracy: 0.7492 - val_loss: 2.0854 - val_accuracy: 0.7220\n",
      "Epoch 18/100\n",
      "125/125 [==============================] - 87s 694ms/step - loss: 1.4922 - accuracy: 0.7535 - val_loss: 2.0828 - val_accuracy: 0.7217\n",
      "Epoch 19/100\n",
      "125/125 [==============================] - 88s 704ms/step - loss: 1.4618 - accuracy: 0.7573 - val_loss: 2.0803 - val_accuracy: 0.7242\n",
      "Epoch 20/100\n",
      "125/125 [==============================] - 86s 687ms/step - loss: 1.4295 - accuracy: 0.7618 - val_loss: 2.0851 - val_accuracy: 0.7215\n",
      "Epoch 21/100\n",
      "125/125 [==============================] - 88s 703ms/step - loss: 1.3966 - accuracy: 0.7665 - val_loss: 2.0670 - val_accuracy: 0.7272\n",
      "Epoch 22/100\n",
      "125/125 [==============================] - 85s 684ms/step - loss: 1.3614 - accuracy: 0.7709 - val_loss: 2.0724 - val_accuracy: 0.7249\n",
      "Epoch 23/100\n",
      "125/125 [==============================] - 86s 686ms/step - loss: 1.3317 - accuracy: 0.7742 - val_loss: 2.0667 - val_accuracy: 0.7271\n",
      "Epoch 24/100\n",
      "125/125 [==============================] - 86s 690ms/step - loss: 1.3034 - accuracy: 0.7788 - val_loss: 2.0759 - val_accuracy: 0.7225\n",
      "Epoch 25/100\n",
      "125/125 [==============================] - 86s 688ms/step - loss: 1.2747 - accuracy: 0.7816 - val_loss: 2.0894 - val_accuracy: 0.7271\n",
      "Epoch 26/100\n",
      "125/125 [==============================] - 100s 797ms/step - loss: 1.2478 - accuracy: 0.7865 - val_loss: 2.0841 - val_accuracy: 0.7278\n",
      "Epoch 27/100\n",
      "125/125 [==============================] - 94s 756ms/step - loss: 1.2258 - accuracy: 0.7898 - val_loss: 2.0858 - val_accuracy: 0.7272\n",
      "Epoch 28/100\n",
      "125/125 [==============================] - 77s 617ms/step - loss: 1.2001 - accuracy: 0.7936 - val_loss: 2.0846 - val_accuracy: 0.7287\n",
      "Epoch 29/100\n",
      "125/125 [==============================] - 94s 748ms/step - loss: 1.1788 - accuracy: 0.7972 - val_loss: 2.1070 - val_accuracy: 0.7268\n",
      "Epoch 30/100\n",
      "125/125 [==============================] - 97s 774ms/step - loss: 1.1634 - accuracy: 0.8001 - val_loss: 2.0954 - val_accuracy: 0.7284\n",
      "Epoch 31/100\n",
      "125/125 [==============================] - 77s 614ms/step - loss: 1.1422 - accuracy: 0.8029 - val_loss: 2.1079 - val_accuracy: 0.7295\n",
      "Epoch 32/100\n",
      "125/125 [==============================] - 94s 751ms/step - loss: 1.1219 - accuracy: 0.8070 - val_loss: 2.1105 - val_accuracy: 0.7292\n",
      "Epoch 33/100\n",
      "125/125 [==============================] - 92s 738ms/step - loss: 1.1048 - accuracy: 0.8107 - val_loss: 2.1217 - val_accuracy: 0.7201\n",
      "Epoch 34/100\n",
      "125/125 [==============================] - 89s 715ms/step - loss: 1.0920 - accuracy: 0.8118 - val_loss: 2.0995 - val_accuracy: 0.7287\n",
      "Epoch 35/100\n",
      "125/125 [==============================] - 88s 707ms/step - loss: 1.0692 - accuracy: 0.8174 - val_loss: 2.0915 - val_accuracy: 0.7303\n",
      "Epoch 36/100\n",
      "125/125 [==============================] - 103s 824ms/step - loss: 1.0466 - accuracy: 0.8198 - val_loss: 2.1204 - val_accuracy: 0.7260\n",
      "Epoch 37/100\n",
      "125/125 [==============================] - 85s 683ms/step - loss: 1.0335 - accuracy: 0.8211 - val_loss: 2.1197 - val_accuracy: 0.7303\n",
      "Epoch 38/100\n",
      "125/125 [==============================] - 83s 666ms/step - loss: 1.0212 - accuracy: 0.8244 - val_loss: 2.1290 - val_accuracy: 0.7266\n",
      "Epoch 39/100\n",
      "125/125 [==============================] - 82s 652ms/step - loss: 1.0069 - accuracy: 0.8279 - val_loss: 2.1234 - val_accuracy: 0.7298\n",
      "Epoch 40/100\n",
      "125/125 [==============================] - 80s 642ms/step - loss: 0.9914 - accuracy: 0.8300 - val_loss: 2.1201 - val_accuracy: 0.7309\n",
      "Epoch 41/100\n",
      "125/125 [==============================] - 85s 682ms/step - loss: 0.9773 - accuracy: 0.8314 - val_loss: 2.1371 - val_accuracy: 0.7267\n",
      "Epoch 42/100\n",
      "125/125 [==============================] - 87s 695ms/step - loss: 0.9560 - accuracy: 0.8340 - val_loss: 2.1370 - val_accuracy: 0.7253\n",
      "Epoch 43/100\n",
      "125/125 [==============================] - 82s 655ms/step - loss: 0.9397 - accuracy: 0.8375 - val_loss: 2.1394 - val_accuracy: 0.7276\n",
      "Epoch 44/100\n",
      "125/125 [==============================] - 88s 708ms/step - loss: 0.9257 - accuracy: 0.8407 - val_loss: 2.1296 - val_accuracy: 0.7316\n",
      "Epoch 45/100\n",
      "125/125 [==============================] - 94s 757ms/step - loss: 0.9166 - accuracy: 0.8422 - val_loss: 2.1321 - val_accuracy: 0.7281\n",
      "Epoch 46/100\n",
      "125/125 [==============================] - 96s 770ms/step - loss: 0.9049 - accuracy: 0.8448 - val_loss: 2.1448 - val_accuracy: 0.7291\n",
      "Epoch 47/100\n",
      "125/125 [==============================] - 100s 804ms/step - loss: 0.8970 - accuracy: 0.8463 - val_loss: 2.1399 - val_accuracy: 0.7294\n",
      "Epoch 48/100\n",
      "125/125 [==============================] - 94s 750ms/step - loss: 0.8890 - accuracy: 0.8474 - val_loss: 2.1469 - val_accuracy: 0.7311\n",
      "Epoch 49/100\n",
      "125/125 [==============================] - 94s 753ms/step - loss: 0.8794 - accuracy: 0.8487 - val_loss: 2.1473 - val_accuracy: 0.7288\n",
      "Epoch 50/100\n",
      "125/125 [==============================] - 74s 589ms/step - loss: 0.8675 - accuracy: 0.8502 - val_loss: 2.1527 - val_accuracy: 0.7293\n",
      "Epoch 51/100\n",
      "125/125 [==============================] - 85s 678ms/step - loss: 0.8555 - accuracy: 0.8533 - val_loss: 2.1681 - val_accuracy: 0.7329\n",
      "Epoch 52/100\n",
      "125/125 [==============================] - 83s 664ms/step - loss: 0.8474 - accuracy: 0.8552 - val_loss: 2.1570 - val_accuracy: 0.7312\n",
      "Epoch 53/100\n",
      "125/125 [==============================] - 82s 655ms/step - loss: 0.8385 - accuracy: 0.8562 - val_loss: 2.1702 - val_accuracy: 0.7285\n",
      "Epoch 54/100\n",
      "125/125 [==============================] - 83s 664ms/step - loss: 0.8254 - accuracy: 0.8589 - val_loss: 2.1782 - val_accuracy: 0.7296\n",
      "Epoch 55/100\n",
      "125/125 [==============================] - 88s 701ms/step - loss: 0.8156 - accuracy: 0.8611 - val_loss: 2.1588 - val_accuracy: 0.7303\n",
      "Epoch 56/100\n",
      "125/125 [==============================] - 84s 668ms/step - loss: 0.8078 - accuracy: 0.8623 - val_loss: 2.1655 - val_accuracy: 0.7292\n",
      "Epoch 57/100\n",
      "125/125 [==============================] - 83s 668ms/step - loss: 0.8000 - accuracy: 0.8630 - val_loss: 2.1802 - val_accuracy: 0.7292\n",
      "Epoch 58/100\n",
      "125/125 [==============================] - 85s 677ms/step - loss: 0.7903 - accuracy: 0.8651 - val_loss: 2.1850 - val_accuracy: 0.7288\n",
      "Epoch 59/100\n",
      "125/125 [==============================] - 84s 668ms/step - loss: 0.7816 - accuracy: 0.8664 - val_loss: 2.1887 - val_accuracy: 0.7304\n",
      "Epoch 60/100\n",
      "125/125 [==============================] - 83s 668ms/step - loss: 0.7791 - accuracy: 0.8675 - val_loss: 2.1844 - val_accuracy: 0.7297\n",
      "Epoch 61/100\n",
      "125/125 [==============================] - 83s 661ms/step - loss: 0.7708 - accuracy: 0.8682 - val_loss: 2.1942 - val_accuracy: 0.7309\n",
      "Epoch 62/100\n",
      "125/125 [==============================] - 84s 670ms/step - loss: 0.7648 - accuracy: 0.8695 - val_loss: 2.1907 - val_accuracy: 0.7297\n",
      "Epoch 63/100\n",
      "125/125 [==============================] - 83s 668ms/step - loss: 0.7598 - accuracy: 0.8705 - val_loss: 2.2133 - val_accuracy: 0.7278\n",
      "Epoch 64/100\n",
      "125/125 [==============================] - 83s 661ms/step - loss: 0.7519 - accuracy: 0.8726 - val_loss: 2.2162 - val_accuracy: 0.7265\n",
      "Epoch 65/100\n",
      "125/125 [==============================] - 83s 662ms/step - loss: 0.7497 - accuracy: 0.8735 - val_loss: 2.2165 - val_accuracy: 0.7285\n",
      "Epoch 66/100\n",
      "125/125 [==============================] - 83s 660ms/step - loss: 0.7459 - accuracy: 0.8738 - val_loss: 2.2046 - val_accuracy: 0.7300\n",
      "Epoch 67/100\n",
      "125/125 [==============================] - 83s 660ms/step - loss: 0.7377 - accuracy: 0.8759 - val_loss: 2.2109 - val_accuracy: 0.7317\n",
      "Epoch 68/100\n",
      "125/125 [==============================] - 96s 768ms/step - loss: 0.7344 - accuracy: 0.8761 - val_loss: 2.2097 - val_accuracy: 0.7311\n",
      "Epoch 69/100\n",
      "125/125 [==============================] - 85s 677ms/step - loss: 0.7287 - accuracy: 0.8760 - val_loss: 2.2204 - val_accuracy: 0.7313\n",
      "Epoch 70/100\n",
      "125/125 [==============================] - 85s 678ms/step - loss: 0.7203 - accuracy: 0.8778 - val_loss: 2.2312 - val_accuracy: 0.7322\n",
      "Epoch 71/100\n",
      "125/125 [==============================] - 85s 683ms/step - loss: 0.7148 - accuracy: 0.8783 - val_loss: 2.2298 - val_accuracy: 0.7282\n",
      "Epoch 72/100\n",
      "125/125 [==============================] - 84s 670ms/step - loss: 0.7074 - accuracy: 0.8791 - val_loss: 2.2209 - val_accuracy: 0.7291\n",
      "Epoch 73/100\n",
      "125/125 [==============================] - 84s 669ms/step - loss: 0.6948 - accuracy: 0.8806 - val_loss: 2.2521 - val_accuracy: 0.7265\n",
      "Epoch 74/100\n",
      "125/125 [==============================] - 83s 663ms/step - loss: 0.6848 - accuracy: 0.8818 - val_loss: 2.2443 - val_accuracy: 0.7292\n",
      "Epoch 75/100\n",
      "125/125 [==============================] - 83s 666ms/step - loss: 0.6821 - accuracy: 0.8824 - val_loss: 2.2330 - val_accuracy: 0.7310\n",
      "Epoch 76/100\n",
      "125/125 [==============================] - 84s 668ms/step - loss: 0.6759 - accuracy: 0.8828 - val_loss: 2.2473 - val_accuracy: 0.7307\n",
      "Epoch 77/100\n",
      "125/125 [==============================] - 83s 660ms/step - loss: 0.6727 - accuracy: 0.8841 - val_loss: 2.2451 - val_accuracy: 0.7291\n",
      "Epoch 78/100\n",
      "125/125 [==============================] - 82s 656ms/step - loss: 0.6668 - accuracy: 0.8854 - val_loss: 2.2596 - val_accuracy: 0.7300\n",
      "Epoch 79/100\n",
      "125/125 [==============================] - 82s 656ms/step - loss: 0.6640 - accuracy: 0.8850 - val_loss: 2.2451 - val_accuracy: 0.7297\n",
      "Epoch 80/100\n",
      "125/125 [==============================] - 83s 665ms/step - loss: 0.6601 - accuracy: 0.8866 - val_loss: 2.2499 - val_accuracy: 0.7294\n",
      "Epoch 81/100\n",
      "125/125 [==============================] - 83s 664ms/step - loss: 0.6581 - accuracy: 0.8868 - val_loss: 2.2400 - val_accuracy: 0.7329\n",
      "Epoch 82/100\n",
      "125/125 [==============================] - 83s 664ms/step - loss: 0.6509 - accuracy: 0.8883 - val_loss: 2.2444 - val_accuracy: 0.7311\n",
      "Epoch 83/100\n",
      "125/125 [==============================] - 83s 667ms/step - loss: 0.6513 - accuracy: 0.8881 - val_loss: 2.2464 - val_accuracy: 0.7299\n",
      "Epoch 84/100\n",
      "125/125 [==============================] - 84s 672ms/step - loss: 0.6464 - accuracy: 0.8891 - val_loss: 2.2484 - val_accuracy: 0.7322\n",
      "Epoch 85/100\n",
      "125/125 [==============================] - 83s 668ms/step - loss: 0.6469 - accuracy: 0.8891 - val_loss: 2.2517 - val_accuracy: 0.7308\n",
      "Epoch 86/100\n",
      "125/125 [==============================] - 83s 661ms/step - loss: 0.6443 - accuracy: 0.8891 - val_loss: 2.2511 - val_accuracy: 0.7287\n",
      "Epoch 87/100\n",
      "125/125 [==============================] - 83s 665ms/step - loss: 0.6424 - accuracy: 0.8893 - val_loss: 2.2499 - val_accuracy: 0.7316\n",
      "Epoch 88/100\n",
      "125/125 [==============================] - 90s 719ms/step - loss: 0.6380 - accuracy: 0.8901 - val_loss: 2.2652 - val_accuracy: 0.7290\n",
      "Epoch 89/100\n",
      "125/125 [==============================] - 86s 690ms/step - loss: 0.6363 - accuracy: 0.8909 - val_loss: 2.2472 - val_accuracy: 0.7306\n",
      "Epoch 90/100\n",
      "125/125 [==============================] - 87s 699ms/step - loss: 0.6320 - accuracy: 0.8916 - val_loss: 2.2551 - val_accuracy: 0.7290\n",
      "Epoch 91/100\n",
      "125/125 [==============================] - 85s 683ms/step - loss: 0.6313 - accuracy: 0.8917 - val_loss: 2.2591 - val_accuracy: 0.7308\n",
      "Epoch 92/100\n",
      "125/125 [==============================] - 85s 679ms/step - loss: 0.6317 - accuracy: 0.8912 - val_loss: 2.2577 - val_accuracy: 0.7314\n",
      "Epoch 93/100\n",
      "125/125 [==============================] - 86s 681ms/step - loss: 0.6258 - accuracy: 0.8924 - val_loss: 2.2608 - val_accuracy: 0.7306\n",
      "Epoch 94/100\n",
      "125/125 [==============================] - 85s 679ms/step - loss: 0.6218 - accuracy: 0.8934 - val_loss: 2.2511 - val_accuracy: 0.7309\n",
      "Epoch 95/100\n",
      "125/125 [==============================] - 86s 688ms/step - loss: 0.6203 - accuracy: 0.8930 - val_loss: 2.2573 - val_accuracy: 0.7307\n",
      "Epoch 96/100\n",
      "125/125 [==============================] - 86s 691ms/step - loss: 0.6149 - accuracy: 0.8947 - val_loss: 2.2623 - val_accuracy: 0.7341\n",
      "Epoch 97/100\n",
      "125/125 [==============================] - 85s 678ms/step - loss: 0.6144 - accuracy: 0.8946 - val_loss: 2.2718 - val_accuracy: 0.7299\n",
      "Epoch 98/100\n",
      "125/125 [==============================] - 85s 682ms/step - loss: 0.6106 - accuracy: 0.8951 - val_loss: 2.2745 - val_accuracy: 0.7308\n",
      "Epoch 99/100\n",
      "125/125 [==============================] - 84s 675ms/step - loss: 0.6084 - accuracy: 0.8951 - val_loss: 2.2726 - val_accuracy: 0.7322\n",
      "Epoch 100/100\n",
      "125/125 [==============================] - 84s 674ms/step - loss: 0.6044 - accuracy: 0.8958 - val_loss: 2.2683 - val_accuracy: 0.7312\n"
     ]
    }
   ],
   "source": [
    "# training the model\n",
    "z = np.zeros((NUM_SAMPLES, LATENT_DIM_DECODER)) # initial [s,c]\n",
    "r = model.fit(\n",
    "    [encoder_inputs, decoder_inputs, z, z], decoder_one_hot_targets,\n",
    "    batch_size=BATCH_SIZE,\n",
    "    epochs=EPOCHS,\n",
    "    validation_split=0.2\n",
    ")"
   ]
  },
  {
   "cell_type": "code",
   "execution_count": 28,
   "metadata": {},
   "outputs": [
    {
     "data": {
      "image/png": "[encoded data removed]",
      "text/plain": [
       "<Figure size 432x288 with 1 Axes>"
      ]
     },
     "metadata": {
      "needs_background": "light"
     },
     "output_type": "display_data"
    }
   ],
   "source": [
    "plt.plot(r.history['loss'], label='loss')\n",
    "plt.plot(r.history['val_loss'], label='val_loss')\n",
    "plt.legend()\n",
    "plt.show()"
   ]
  },
  {
   "cell_type": "code",
   "execution_count": 29,
   "metadata": {},
   "outputs": [
    {
     "data": {
      "image/png": "[encoded data removed]",
      "text/plain": [
       "<Figure size 432x288 with 1 Axes>"
      ]
     },
     "metadata": {
      "needs_background": "light"
     },
     "output_type": "display_data"
    }
   ],
   "source": [
    "plt.plot(r.history['accuracy'], label='acc')\n",
    "plt.plot(r.history['val_accuracy'], label='val_acc')\n",
    "plt.legend()\n",
    "plt.show()"
   ]
  },
  {
   "cell_type": "code",
   "execution_count": 30,
   "metadata": {},
   "outputs": [],
   "source": [
    "##### Making predictions #####\n",
    "# As with the poetry example, we need to create another model\n",
    "# that can take in the RNN state and previous word as input\n",
    "# and accept a T=1 sequence\n",
    "\n",
    "# The encoder will be stand-alone\n",
    "# From this we will get our initial decoder hidden state\n",
    "encoder_model = Model(encoder_inputs_placeholder, encoder_outputs)\n",
    "\n",
    "# next we define a T=1 decoder model\n",
    "encoder_outputs_as_input = Input(shape=(max_len_input, LATENT_DIM * 2,))\n",
    "decoder_inputs_single = Input(shape=(1,))\n",
    "decoder_inputs_single_x = embedding_layer_target(decoder_inputs_single)\n",
    "\n",
    "# no need to loop over attention steps this time because there is only one step\n",
    "context = one_step_attention(encoder_outputs_as_input, initial_s)\n",
    "\n",
    "# combine context with the last word\n",
    "decoder_lstm_input = context_last_word_concat_layer([context, decoder_inputs_single_x])\n",
    "\n",
    "# lstm and final dense\n",
    "o, s, c = decoder_lstm(decoder_lstm_input, initial_state=[initial_s, initial_c])\n",
    "decoder_outputs = decoder_dense(o)\n",
    "\n",
    "# note: we do not really need the final stack and transpose\n",
    "# because there is only 1 output\n",
    "# it is already of size N x D\n",
    "# no need to make it 1 x N x D --> N x 1 x D"
   ]
  },
  {
   "cell_type": "code",
   "execution_count": 31,
   "metadata": {},
   "outputs": [],
   "source": [
    "# creating the model object\n",
    "decoder_model = Model(\n",
    "    inputs=[\n",
    "        decoder_inputs_single,\n",
    "        encoder_outputs_as_input,\n",
    "        initial_s,\n",
    "        initial_c\n",
    "    ],\n",
    "    outputs=[decoder_outputs,s,c]\n",
    ")"
   ]
  },
  {
   "cell_type": "code",
   "execution_count": 32,
   "metadata": {},
   "outputs": [],
   "source": [
    "# map indeces back into real words\n",
    "# so we can view the results\n",
    "idx2word_eng = {v:k for k, v in word2idx_inputs.items()}\n",
    "idx2word_trans = {v:k for k, v in word2idx_outputs.items()}"
   ]
  },
  {
   "cell_type": "code",
   "execution_count": 33,
   "metadata": {},
   "outputs": [],
   "source": [
    "def decode_sequence(input_seq):\n",
    "    # encode the input as state vectors\n",
    "    enc_out = encoder_model.predict(input_seq)\n",
    "\n",
    "    # generate empty target sequence of length 1\n",
    "    target_seq = np.zeros((1,1))\n",
    "\n",
    "    # populate the first character of target sequence with the start character\n",
    "    # note: tokenizer lower case all words\n",
    "    target_seq[0, 0] = word2idx_outputs['<sos>']\n",
    "\n",
    "    # break when sentence ends\n",
    "    eos = word2idx_outputs['<eos>']\n",
    "\n",
    "    # [s, c] will be updated in each loop iteration\n",
    "    s = np.zeros((1, LATENT_DIM_DECODER))\n",
    "    c = np.zeros((1, LATENT_DIM_DECODER))\n",
    "\n",
    "    # create the translation\n",
    "    output_sentence = []\n",
    "    for _ in range(max_len_output):\n",
    "        o, s, c = decoder_model.predict([target_seq, enc_out, s, c])\n",
    "\n",
    "        # get the next word\n",
    "        idx = np.argmax(o.flatten())\n",
    "\n",
    "        # end sentence with eos\n",
    "        if eos == idx:\n",
    "            break\n",
    "\n",
    "        word = ''\n",
    "        if idx > 0:\n",
    "            word = idx2word_trans[idx]\n",
    "            output_sentence.append(word)\n",
    "\n",
    "        # update the decoder input\n",
    "        # which is the word generated just now\n",
    "        target_seq[0, 0] = idx\n",
    "\n",
    "    return ' '.join(output_sentence)"
   ]
  },
  {
   "cell_type": "code",
   "execution_count": 34,
   "metadata": {},
   "outputs": [
    {
     "name": "stdout",
     "output_type": "stream",
     "text": [
      "1/1 [==============================] - 5s 5s/step\n",
      "1/1 [==============================] - 1s 1s/step\n",
      "1/1 [==============================] - 0s 38ms/step\n",
      "1/1 [==============================] - 0s 37ms/step\n",
      "1/1 [==============================] - 0s 58ms/step\n",
      "-------------------------------\n",
      "Input sentence: I called Tom in.\n",
      "Predicted translation: tom'u içeri çağırdım.\n",
      "Actual translation: Tom'u içeri çağırdım. <eos>\n"
     ]
    }
   ],
   "source": [
    "while True:\n",
    "    i = np.random.choice(len(input_texts))\n",
    "    input_seq = encoder_inputs[i:i+1]\n",
    "    translation = decode_sequence(input_seq)\n",
    "    print('-------------------------------')\n",
    "    print('Input sentence:', input_texts[i])\n",
    "    print('Predicted translation:', translation)\n",
    "    print('Actual translation:', target_texts[i])\n",
    "\n",
    "    ans = input('Continue? [Y/n]')\n",
    "    if ans and ans.lower().startswith('n'):\n",
    "        break"
   ]
  }
 ],
 "metadata": {
  "kernelspec": {
   "display_name": "Python 3",
   "language": "python",
   "name": "python3"
  },
  "language_info": {
   "codemirror_mode": {
    "name": "ipython",
    "version": 3
   },
   "file_extension": ".py",
   "mimetype": "text/x-python",
   "name": "python",
   "nbconvert_exporter": "python",
   "pygments_lexer": "ipython3",
   "version": "3.8.3"
  },
  "orig_nbformat": 4,
  "vscode": {
   "interpreter": {
    "hash": "0adcc2737ebf6a4a119f135174df96668767fca1ef1112612db5ecadf2b6d608"
   }
  }
 },
 "nbformat": 4,
 "nbformat_minor": 2
}
